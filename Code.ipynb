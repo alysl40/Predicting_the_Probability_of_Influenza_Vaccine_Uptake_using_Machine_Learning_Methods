{
 "cells": [
  {
   "cell_type": "markdown",
   "id": "b7165ee6",
   "metadata": {},
   "source": [
    "# Li's Code"
   ]
  },
  {
   "cell_type": "code",
   "execution_count": 1,
   "id": "fb0a67f5",
   "metadata": {},
   "outputs": [],
   "source": [
    "import matplotlib.pyplot as plt\n",
    "import pandas as pd\n",
    "import numpy as np\n",
    "from sklearn.decomposition import PCA\n",
    "from scipy import stats\n",
    "import seaborn as sns\n",
    "from sklearn.metrics import mean_squared_error\n",
    "from sklearn.preprocessing import OneHotEncoder\n",
    "from sklearn import *\n",
    "from sklearn.model_selection import cross_val_score\n",
    "from sklearn.preprocessing import LabelEncoder\n",
    "from sklearn.linear_model import LogisticRegression\n",
    "from sklearn.model_selection import RandomizedSearchCV\n",
    "from sklearn.pipeline import make_pipeline\n",
    "from sklearn.neighbors import KNeighborsClassifier\n",
    "from sklearn.metrics import accuracy_score\n",
    "import warnings\n",
    "from sklearn.tree import DecisionTreeClassifier\n",
    "from sklearn.metrics import r2_score\n",
    "from sklearn.model_selection import GridSearchCV\n",
    "import time\n",
    "import sys"
   ]
  },
  {
   "cell_type": "code",
   "execution_count": 7,
   "id": "c4657bc1",
   "metadata": {},
   "outputs": [
    {
     "name": "stdout",
     "output_type": "stream",
     "text": [
      "D:\\诺丁汉大学 学习资料\\诺丁汉大学  计算机科学 学习资料\\Data science and machine learning\\CW2\\Coursework2\n"
     ]
    }
   ],
   "source": [
    "# Before you run the program, please make sure that the current working file directory is the file directory I submitted. \n",
    "# Please modify the path in the new_directory to change the current working directory\n",
    "\n",
    "import os\n",
    "new_directory = 'D:\\诺丁汉大学 学习资料\\诺丁汉大学  计算机科学 学习资料\\Data science and machine learning\\CW2\\Coursework2'\n",
    "os.chdir(new_directory)\n",
    "\n",
    "current_directory = os.getcwd()\n",
    "print(current_directory)"
   ]
  },
  {
   "cell_type": "code",
   "execution_count": 8,
   "id": "91696380",
   "metadata": {},
   "outputs": [],
   "source": [
    "df = pd.read_csv(r\"Raw Data/training_set_features.csv\")\n",
    "df1 = pd.read_csv(r\"Raw Data/training_set_labels.csv\")\n",
    "df2 = pd.read_csv(r\"Raw Data/test_set_features.csv\")"
   ]
  },
  {
   "cell_type": "markdown",
   "id": "a03e53ac",
   "metadata": {},
   "source": [
    "# Training set preprocessing"
   ]
  },
  {
   "cell_type": "code",
   "execution_count": 3,
   "id": "325dcace",
   "metadata": {},
   "outputs": [],
   "source": [
    "def preprocessing(dataset):\n",
    "    #Replace all null values with nan\n",
    "    dataset = dataset.fillna(value = np.NaN)   \n",
    "    \n",
    "    # Replace the empty values from h1n1_concern to opinion_seas_sick_from_vacc, education, income_poverty with the mode\n",
    "    header1 = ['h1n1_concern', 'h1n1_knowledge',\n",
    "           'behavioral_antiviral_meds', 'behavioral_avoidance',\n",
    "           'behavioral_face_mask', 'behavioral_wash_hands',\n",
    "           'behavioral_large_gatherings', 'behavioral_outside_home',\n",
    "           'behavioral_touch_face', 'doctor_recc_h1n1', 'doctor_recc_seasonal',\n",
    "           'chronic_med_condition', 'child_under_6_months', 'health_worker',\n",
    "           'opinion_h1n1_vacc_effective', 'opinion_h1n1_risk',\n",
    "           'opinion_h1n1_sick_from_vacc', 'opinion_seas_vacc_effective',\n",
    "           'opinion_seas_risk', 'opinion_seas_sick_from_vacc',\"education\",\"income_poverty\",\"marital_status\",\"rent_or_own\",\"employment_status\",\\\n",
    "             \"household_adults\",\"household_children\"]\n",
    "    for n in header1:\n",
    "        n_mode = dataset[n].mode()[0]\n",
    "        dataset[n].replace(np.nan,n_mode,inplace = True) \n",
    "        \n",
    "    #There are too many missing values, delete these columns\n",
    "    header2 = [\"health_insurance\",\"employment_industry\",\"employment_occupation\"]\n",
    "    for h in header2:\n",
    "        dataset.drop(h,axis = 1, inplace = True)  \n",
    "        \n",
    "    # Convert the data type of respondent_id to 'opinion_seas_sick_from_vacc' to int\n",
    "    header3 = ['respondent_id', 'h1n1_concern', 'h1n1_knowledge',\n",
    "           'behavioral_antiviral_meds', 'behavioral_avoidance',\n",
    "           'behavioral_face_mask', 'behavioral_wash_hands',\n",
    "           'behavioral_large_gatherings', 'behavioral_outside_home',\n",
    "           'behavioral_touch_face', 'doctor_recc_h1n1', 'doctor_recc_seasonal',\n",
    "           'chronic_med_condition', 'child_under_6_months', 'health_worker',\n",
    "           'opinion_h1n1_vacc_effective', 'opinion_h1n1_risk',\n",
    "           'opinion_h1n1_sick_from_vacc', 'opinion_seas_vacc_effective',\n",
    "           'opinion_seas_risk', 'opinion_seas_sick_from_vacc']\n",
    "\n",
    "    for h in header3:\n",
    "        dataset[h] = dataset[h].astype('int')\n",
    "        \n",
    "    # Label encoding for age_group education income_poverty\n",
    "    label_encoder = LabelEncoder()\n",
    "    dataset['age_group_encoded'] = label_encoder.fit_transform(dataset['age_group'])\n",
    "    dataset['income_poverty_encoded'] = label_encoder.fit_transform(dataset['income_poverty'])\n",
    "\n",
    "    education_value = ['< 12 Years','12 Years','Some College','College Graduate']\n",
    "    m = 0\n",
    "    for v in education_value:\n",
    "        dataset['education'].replace(v,m,inplace = True)\n",
    "        m += 1\n",
    "\n",
    "    # One hot encoding for 'race', 'sex', 'marital_status', 'rent_or_own', 'employment_status', 'hhs_geo_region', 'census_msa', 'census_msa'\n",
    "    header4 = ['race','sex','marital_status','rent_or_own','employment_status','hhs_geo_region','census_msa']\n",
    "    m = 0\n",
    "    for h in header4:\n",
    "        header4[m] = pd.get_dummies(dataset[h])\n",
    "        dataset.drop(h,axis = 1,inplace = True)\n",
    "        dataset = pd.concat([dataset, header4[m]], axis=1)\n",
    "        m+=1\n",
    "\n",
    "    header_should_be_delete = ['age_group','income_poverty']\n",
    "    for h in header_should_be_delete:\n",
    "        dataset = dataset.drop(h,axis = 1)\n",
    "\n",
    "        \n",
    "    return dataset\n",
    "    \n",
    "    \n",
    "df = preprocessing(df)  \n",
    "    \n",
    "    \n",
    "    \n",
    "    "
   ]
  },
  {
   "cell_type": "code",
   "execution_count": 4,
   "id": "40e60f6e",
   "metadata": {},
   "outputs": [],
   "source": [
    "# Combine training features and labels\n",
    "df1.drop('respondent_id',axis = 1,inplace = True)\n",
    "df = pd.concat([df,df1],axis = 1)"
   ]
  },
  {
   "cell_type": "code",
   "execution_count": 9,
   "id": "514d8550",
   "metadata": {},
   "outputs": [
    {
     "name": "stdout",
     "output_type": "stream",
     "text": [
      "<class 'pandas.core.frame.DataFrame'>\n",
      "RangeIndex: 26707 entries, 0 to 26706\n",
      "Data columns (total 54 columns):\n",
      " #   Column                       Non-Null Count  Dtype  \n",
      "---  ------                       --------------  -----  \n",
      " 0   respondent_id                26707 non-null  int32  \n",
      " 1   h1n1_concern                 26707 non-null  int32  \n",
      " 2   h1n1_knowledge               26707 non-null  int32  \n",
      " 3   behavioral_antiviral_meds    26707 non-null  int32  \n",
      " 4   behavioral_avoidance         26707 non-null  int32  \n",
      " 5   behavioral_face_mask         26707 non-null  int32  \n",
      " 6   behavioral_wash_hands        26707 non-null  int32  \n",
      " 7   behavioral_large_gatherings  26707 non-null  int32  \n",
      " 8   behavioral_outside_home      26707 non-null  int32  \n",
      " 9   behavioral_touch_face        26707 non-null  int32  \n",
      " 10  doctor_recc_h1n1             26707 non-null  int32  \n",
      " 11  doctor_recc_seasonal         26707 non-null  int32  \n",
      " 12  chronic_med_condition        26707 non-null  int32  \n",
      " 13  child_under_6_months         26707 non-null  int32  \n",
      " 14  health_worker                26707 non-null  int32  \n",
      " 15  opinion_h1n1_vacc_effective  26707 non-null  int32  \n",
      " 16  opinion_h1n1_risk            26707 non-null  int32  \n",
      " 17  opinion_h1n1_sick_from_vacc  26707 non-null  int32  \n",
      " 18  opinion_seas_vacc_effective  26707 non-null  int32  \n",
      " 19  opinion_seas_risk            26707 non-null  int32  \n",
      " 20  opinion_seas_sick_from_vacc  26707 non-null  int32  \n",
      " 21  education                    26707 non-null  int64  \n",
      " 22  household_adults             26707 non-null  float64\n",
      " 23  household_children           26707 non-null  float64\n",
      " 24  age_group_encoded            26707 non-null  int32  \n",
      " 25  income_poverty_encoded       26707 non-null  int32  \n",
      " 26  Black                        26707 non-null  uint8  \n",
      " 27  Hispanic                     26707 non-null  uint8  \n",
      " 28  Other or Multiple            26707 non-null  uint8  \n",
      " 29  White                        26707 non-null  uint8  \n",
      " 30  Female                       26707 non-null  uint8  \n",
      " 31  Male                         26707 non-null  uint8  \n",
      " 32  Married                      26707 non-null  uint8  \n",
      " 33  Not Married                  26707 non-null  uint8  \n",
      " 34  Own                          26707 non-null  uint8  \n",
      " 35  Rent                         26707 non-null  uint8  \n",
      " 36  Employed                     26707 non-null  uint8  \n",
      " 37  Not in Labor Force           26707 non-null  uint8  \n",
      " 38  Unemployed                   26707 non-null  uint8  \n",
      " 39  atmpeygn                     26707 non-null  uint8  \n",
      " 40  bhuqouqj                     26707 non-null  uint8  \n",
      " 41  dqpwygqj                     26707 non-null  uint8  \n",
      " 42  fpwskwrf                     26707 non-null  uint8  \n",
      " 43  kbazzjca                     26707 non-null  uint8  \n",
      " 44  lrircsnp                     26707 non-null  uint8  \n",
      " 45  lzgpxyit                     26707 non-null  uint8  \n",
      " 46  mlyzmhmf                     26707 non-null  uint8  \n",
      " 47  oxchjgsf                     26707 non-null  uint8  \n",
      " 48  qufhixun                     26707 non-null  uint8  \n",
      " 49  MSA, Not Principle  City     26707 non-null  uint8  \n",
      " 50  MSA, Principle City          26707 non-null  uint8  \n",
      " 51  Non-MSA                      26707 non-null  uint8  \n",
      " 52  h1n1_vaccine                 26707 non-null  int64  \n",
      " 53  seasonal_vaccine             26707 non-null  int64  \n",
      "dtypes: float64(2), int32(23), int64(3), uint8(26)\n",
      "memory usage: 4.0 MB\n"
     ]
    }
   ],
   "source": [
    "df.info()"
   ]
  },
  {
   "cell_type": "markdown",
   "id": "46540639",
   "metadata": {},
   "source": [
    "# Feature Selection"
   ]
  },
  {
   "cell_type": "code",
   "execution_count": 5,
   "id": "6a459f59",
   "metadata": {},
   "outputs": [
    {
     "name": "stdout",
     "output_type": "stream",
     "text": [
      "h1n1_vaccine_model_training_value: \n",
      "['h1n1_concern', 'h1n1_knowledge', 'doctor_recc_h1n1', 'doctor_recc_seasonal', 'health_worker', 'opinion_h1n1_vacc_effective', 'opinion_h1n1_risk', 'opinion_seas_vacc_effective', 'opinion_seas_risk']\n",
      "\n",
      "\n",
      "seasonal_vaccine_model_training_value:\n",
      "['h1n1_concern', 'h1n1_knowledge', 'behavioral_wash_hands', 'behavioral_touch_face', 'doctor_recc_h1n1', 'doctor_recc_seasonal', 'chronic_med_condition', 'health_worker', 'opinion_h1n1_vacc_effective', 'opinion_h1n1_risk', 'opinion_seas_vacc_effective', 'opinion_seas_risk', 'household_children', 'age_group_encoded', 'White', 'Own', 'Rent', 'Employed', 'Not in Labor Force']\n",
      "\n",
      "\n"
     ]
    }
   ],
   "source": [
    "# Correlation analysis, select variables with correlation greater than 0.1 and less than -0.1 to train the model\n",
    "h1n1_vaccine_model_training_value = []\n",
    "for h in df.columns.tolist():\n",
    "    if df[[h,'h1n1_vaccine']].corr().iloc[0,1]>=0.1 or df[[h,'h1n1_vaccine']].corr().iloc[0,1] <=-0.1:\n",
    "        h1n1_vaccine_model_training_value.append(h)\n",
    "h1n1_vaccine_model_training_value.remove('h1n1_vaccine')\n",
    "h1n1_vaccine_model_training_value.remove('seasonal_vaccine')\n",
    "print('h1n1_vaccine_model_training_value: ')\n",
    "print(h1n1_vaccine_model_training_value)\n",
    "print('\\n')\n",
    "    \n",
    "seasonal_vaccine_model_training_value = []\n",
    "for h in df.columns.tolist():\n",
    "    if df[[h,'seasonal_vaccine']].corr().iloc[0,1]>=0.1 or df[[h,'seasonal_vaccine']].corr().iloc[0,1] <=-0.1:\n",
    "        seasonal_vaccine_model_training_value.append(h)\n",
    "seasonal_vaccine_model_training_value.remove('h1n1_vaccine')\n",
    "seasonal_vaccine_model_training_value.remove('seasonal_vaccine')\n",
    "print('seasonal_vaccine_model_training_value:')\n",
    "print(seasonal_vaccine_model_training_value)\n",
    "print('\\n')\n",
    "    "
   ]
  },
  {
   "cell_type": "code",
   "execution_count": 6,
   "id": "69d7a9fa",
   "metadata": {},
   "outputs": [],
   "source": [
    "# Divide df into training set and test set\n",
    "from sklearn.model_selection import train_test_split\n",
    "\n",
    "h1n1_vaccine_train = df[h1n1_vaccine_model_training_value]\n",
    "seasonal_vaccine_train = df[seasonal_vaccine_model_training_value]\n",
    "y = df.iloc[:,-2:]\n",
    "\n",
    "# Randomly select 30% of the row data as the test set, and the rest as the training set\n",
    "h1n1_vaccine_x_train,h1n1_vaccine_x_test,h1n1_vaccine_y_train,h1n1_vaccine_y_test = train_test_split(h1n1_vaccine_train,y.iloc[:,0],test_size = 0.3, random_state = 42)\n",
    "\n",
    "seasonal_vaccine_x_train,seasonal_vaccine_x_test,seasonal_vaccine_y_train,seasonal_vaccine_y_test = train_test_split(seasonal_vaccine_train,y.iloc[:,1],test_size = 0.3, random_state = 42)\n",
    "\n",
    "\n"
   ]
  },
  {
   "cell_type": "markdown",
   "id": "8fbdf4fb",
   "metadata": {},
   "source": [
    "# Logistic Regression Model"
   ]
  },
  {
   "cell_type": "markdown",
   "id": "295c3228",
   "metadata": {},
   "source": [
    "H1N1"
   ]
  },
  {
   "cell_type": "code",
   "execution_count": 8,
   "id": "0e3103a5",
   "metadata": {
    "scrolled": true
   },
   "outputs": [
    {
     "name": "stdout",
     "output_type": "stream",
     "text": [
      "Fold 1: accuracy = 0.851528384279476\n",
      "Fold 2: accuracy = 0.8228321896444167\n",
      "Fold 3: accuracy = 0.8378041172800998\n",
      "Fold 4: accuracy = 0.83832709113608\n",
      "Fold 5: accuracy = 0.8208489388264669\n",
      "Mean scores:  0.834268144233308\n",
      "The R-square is:  0.8353924872082865\n",
      "H1n1 Best Scores:  0.8313365218552269\n",
      "程序运行时间为： 7.988971710205078 秒\n"
     ]
    }
   ],
   "source": [
    "# H1N1 Predict\n",
    "h1n1_vaccine_log = LogisticRegression(C=0.1)\n",
    "\n",
    "# define parameter grid\n",
    "param_grid = {\n",
    "    'C': [0.001, 0.01, 0.1, 1, 10, 100], \n",
    "    'penalty': ['l1', 'l2'], \n",
    "    'solver': ['liblinear', 'saga']  \n",
    "}\n",
    "\n",
    "#Grid Search Optimization Parameters\n",
    "h1n1_vaccine_log = GridSearchCV(h1n1_vaccine_log, param_grid, cv=5)\n",
    "\n",
    "#Cross-validation to evaluate model performance\n",
    "scores = cross_val_score(h1n1_vaccine_log,h1n1_vaccine_x_test,h1n1_vaccine_y_test,cv = 5,scoring = 'accuracy')\n",
    "for fold, score in enumerate(scores):\n",
    "    print(f\"Fold {fold +1}: accuracy = {score}\")\n",
    "mean_score = scores.mean()\n",
    "print(\"Mean scores: \",mean_score)\n",
    "\n",
    "start_time = time.time()\n",
    "\n",
    "#Training model\n",
    "h1n1_vaccine_log.fit(h1n1_vaccine_x_train,h1n1_vaccine_y_train)\n",
    "h1n1_vaccine_log_predict = h1n1_vaccine_log.predict(h1n1_vaccine_x_test)\n",
    "\n",
    "end_time = time.time()\n",
    "print('The R-square is: ',h1n1_vaccine_log.score(h1n1_vaccine_x_test,h1n1_vaccine_y_test))\n",
    "print(\"H1n1 Best Scores: \" , h1n1_vaccine_log.best_score_)\n",
    "print(\"程序运行时间为：\",end_time - start_time, \"秒\")"
   ]
  },
  {
   "cell_type": "markdown",
   "id": "43309949",
   "metadata": {},
   "source": [
    "Seasonal"
   ]
  },
  {
   "cell_type": "code",
   "execution_count": 7,
   "id": "c105acb4",
   "metadata": {},
   "outputs": [
    {
     "name": "stdout",
     "output_type": "stream",
     "text": [
      "Fold 1: accuracy = 0.7891453524641298\n",
      "Fold 2: accuracy = 0.784154709918902\n",
      "Fold 3: accuracy = 0.7542108546475359\n",
      "Fold 4: accuracy = 0.7752808988764045\n",
      "Fold 5: accuracy = 0.7702871410736579\n",
      "Mean scores:  0.774615791396126\n",
      "\n",
      "\n",
      "The R-square is:  0.7786097591413952\n",
      "Seasonal Best Scores:  0.7654331142351433\n",
      "程序运行时间为： 61.06106233596802 秒\n"
     ]
    }
   ],
   "source": [
    "warnings.simplefilter(\"ignore\")\n",
    "seasonal_vaccine_log = LogisticRegression()\n",
    "\n",
    "# define parameter grid\n",
    "param_grid = {\n",
    "    'C': [0.001, 0.01, 0.1, 1, 10, 100], \n",
    "    'penalty': ['l1', 'l2'], \n",
    "    'solver': ['liblinear', 'saga']  \n",
    "}\n",
    "\n",
    "#Grid Search Optimization Parameters\n",
    "seasonal_vaccine_log = GridSearchCV(seasonal_vaccine_log, param_grid, cv=5)\n",
    "\n",
    "#Cross-validation to evaluate model performance\n",
    "scores = cross_val_score(seasonal_vaccine_log,seasonal_vaccine_x_test,seasonal_vaccine_y_test,cv = 5,scoring = 'accuracy')\n",
    "for fold, score in enumerate(scores):\n",
    "    print(f\"Fold {fold +1}: accuracy = {score}\")\n",
    "mean_score = scores.mean()\n",
    "print(\"Mean scores: \",mean_score)\n",
    "print(\"\\n\")\n",
    "\n",
    "start_time = time.time()\n",
    "\n",
    "#Training model\n",
    "seasonal_vaccine_log.fit(seasonal_vaccine_x_train,seasonal_vaccine_y_train)\n",
    "seasonal_vaccine_log_predict = seasonal_vaccine_log.predict(seasonal_vaccine_x_test)\n",
    "\n",
    "end_time = time.time()\n",
    "\n",
    "print('The R-square is: ',seasonal_vaccine_log.score(seasonal_vaccine_x_test,seasonal_vaccine_y_test))\n",
    "print(\"Seasonal Best Scores: \" , seasonal_vaccine_log.best_score_)\n",
    "print(\"程序运行时间为：\",end_time - start_time, \"秒\")\n"
   ]
  },
  {
   "cell_type": "markdown",
   "id": "ea639aa5",
   "metadata": {},
   "source": [
    "# K-Nearest Neighbour"
   ]
  },
  {
   "cell_type": "markdown",
   "id": "7a632283",
   "metadata": {},
   "source": [
    "H1N1"
   ]
  },
  {
   "cell_type": "code",
   "execution_count": 29,
   "id": "b566bdfa",
   "metadata": {
    "scrolled": false
   },
   "outputs": [
    {
     "name": "stdout",
     "output_type": "stream",
     "text": [
      "Fold 1: accuracy = 0.8459139114160948\n",
      "Fold 2: accuracy = 0.825951341235184\n",
      "Fold 3: accuracy = 0.8265751715533375\n",
      "Fold 4: accuracy = 0.83458177278402\n",
      "Fold 5: accuracy = 0.8139825218476904\n",
      "Mean scores:  0.8294009437672653\n",
      "H1n1 Accuracy: 0.8262822912766754\n",
      "H1n1 Best Scores:  0.8270032688001802\n",
      "程序运行时间为： 19.775394201278687 秒\n"
     ]
    }
   ],
   "source": [
    "warnings.simplefilter(\"ignore\")\n",
    "\n",
    "h1n1_vaccine_knn = KNeighborsClassifier()\n",
    "\n",
    "# define parameter grid\n",
    "param_grid = {\n",
    "    'n_neighbors': range(1, 21),  \n",
    "    'weights': ['uniform', 'distance'],  \n",
    "    'p': [1, 2]  \n",
    "}\n",
    "\n",
    "#Randomized Search Optimization Parameters\n",
    "h1n1_vaccine_knn = RandomizedSearchCV(h1n1_vaccine_knn, param_grid, n_iter=10, cv=5)\n",
    "\n",
    "#Cross-validation to evaluate model performance\n",
    "scores = cross_val_score(h1n1_vaccine_knn,h1n1_vaccine_x_test,h1n1_vaccine_y_test,cv = 5,scoring = 'accuracy')\n",
    "for fold, score in enumerate(scores):\n",
    "    print(f\"Fold {fold +1}: accuracy = {score}\")\n",
    "mean_score = scores.mean()\n",
    "print(\"Mean scores: \",mean_score)\n",
    "\n",
    "start_time = time.time()\n",
    "\n",
    "\n",
    "#Model Training\n",
    "h1n1_vaccine_knn.fit(h1n1_vaccine_x_train,h1n1_vaccine_y_train)\n",
    "h1n1_vaccine_knn_pred = h1n1_vaccine_knn.predict(h1n1_vaccine_x_test)\n",
    "\n",
    "end_time = time.time()\n",
    "\n",
    "h1n1_vaccine_knn_acc = accuracy_score(h1n1_vaccine_y_test, h1n1_vaccine_knn_pred)\n",
    "print('H1n1 Accuracy:', h1n1_vaccine_knn_acc)\n",
    "print(\"H1n1 Best Scores: \" , h1n1_vaccine_knn.best_score_)\n",
    "print(\"程序运行时间为：\",end_time - start_time, \"秒\")"
   ]
  },
  {
   "cell_type": "markdown",
   "id": "2d602d31",
   "metadata": {},
   "source": [
    "Seasonal"
   ]
  },
  {
   "cell_type": "code",
   "execution_count": 31,
   "id": "581f1ea7",
   "metadata": {},
   "outputs": [
    {
     "name": "stdout",
     "output_type": "stream",
     "text": [
      "Fold 1: accuracy = 0.7616968184653774\n",
      "Fold 2: accuracy = 0.7610729881472239\n",
      "Fold 3: accuracy = 0.7548346849656893\n",
      "Fold 4: accuracy = 0.7609238451935081\n",
      "Fold 5: accuracy = 0.7490636704119851\n",
      "Mean scores:  0.7575184014367567\n",
      "Seasonal Accuracy: 0.7505303881193062\n",
      "Seasonal Best Scores:  0.7470315279018561\n",
      "程序运行时间为： 88.02561664581299 秒\n"
     ]
    }
   ],
   "source": [
    "seasonal_vaccine_knn = KNeighborsClassifier()\n",
    "\n",
    "# define parameter grid\n",
    "param_grid = {\n",
    "    'n_neighbors': range(1, 21),  \n",
    "    'weights': ['uniform', 'distance'],  \n",
    "    'p': [1, 2]  \n",
    "}\n",
    "\n",
    "#Randomized Search Optimization Parameters\n",
    "seasonal_vaccine_knn = RandomizedSearchCV(seasonal_vaccine_knn, param_grid, n_iter=10, cv=5)\n",
    "\n",
    "#Cross-validation to evaluate model performance\n",
    "scores = cross_val_score(seasonal_vaccine_knn,seasonal_vaccine_x_test,seasonal_vaccine_y_test,cv = 5,scoring = 'accuracy')\n",
    "for fold, score in enumerate(scores):\n",
    "    print(f\"Fold {fold +1}: accuracy = {score}\")\n",
    "mean_score = scores.mean()\n",
    "print(\"Mean scores: \",mean_score)\n",
    "\n",
    "start_time = time.time()\n",
    "\n",
    "#Model Training\n",
    "seasonal_vaccine_knn.fit(seasonal_vaccine_x_train,seasonal_vaccine_y_train)\n",
    "seasonal_vaccine_knn_predict = seasonal_vaccine_knn.predict(seasonal_vaccine_x_test)\n",
    "\n",
    "end_time = time.time()\n",
    "\n",
    "seasonal_vaccine_knn_acc = accuracy_score(seasonal_vaccine_y_test, seasonal_vaccine_knn_predict)\n",
    "print('Seasonal Accuracy:', seasonal_vaccine_knn_acc)\n",
    "print(\"Seasonal Best Scores: \" , seasonal_vaccine_knn.best_score_)\n",
    "print(\"程序运行时间为：\",end_time - start_time, \"秒\")"
   ]
  },
  {
   "cell_type": "code",
   "execution_count": null,
   "id": "04b52b64",
   "metadata": {},
   "outputs": [],
   "source": []
  },
  {
   "cell_type": "markdown",
   "id": "47a09d9c",
   "metadata": {},
   "source": [
    "# Decision Tree Regression"
   ]
  },
  {
   "cell_type": "markdown",
   "id": "3f66f2e8",
   "metadata": {},
   "source": [
    "H1N1"
   ]
  },
  {
   "cell_type": "code",
   "execution_count": 32,
   "id": "f1dc907d",
   "metadata": {},
   "outputs": [
    {
     "name": "stdout",
     "output_type": "stream",
     "text": [
      "Fold 1: accuracy = 0.8415470991890206\n",
      "Fold 2: accuracy = 0.8234560199625702\n",
      "Fold 3: accuracy = 0.8234560199625702\n",
      "Fold 4: accuracy = 0.8220973782771536\n",
      "Fold 5: accuracy = 0.8089887640449438\n",
      "Mean scores:  0.8239090562872515\n",
      "H1n1 Accuracy: 0.8317733682765506\n",
      "H1n1 Best Scores:  0.8299457470466963\n",
      "程序运行时间为： 2.6750638484954834 秒\n"
     ]
    }
   ],
   "source": [
    "h1n1_vaccine_DecisionTree = DecisionTreeClassifier()\n",
    "\n",
    "# define parameter grid\n",
    "param_grid = {\n",
    "    'max_depth': [3, 5, 7, 9],\n",
    "    'min_samples_split': [2, 5, 10],\n",
    "    'min_samples_leaf': [1, 2, 4],\n",
    "}\n",
    "\n",
    "#Grid Search Optimization Parameters\n",
    "h1n1_vaccine_DecisionTree = GridSearchCV(h1n1_vaccine_DecisionTree, param_grid, cv=5)\n",
    "\n",
    "#Cross-validation to evaluate model performance\n",
    "scores = cross_val_score(h1n1_vaccine_DecisionTree,h1n1_vaccine_x_test,h1n1_vaccine_y_test,cv = 5,scoring = 'accuracy')\n",
    "for fold, score in enumerate(scores):\n",
    "    print(f\"Fold {fold +1}: accuracy = {score}\")\n",
    "mean_score = scores.mean()\n",
    "print(\"Mean scores: \",mean_score)\n",
    "\n",
    "start_time = time.time()\n",
    "\n",
    "# Model Training\n",
    "h1n1_vaccine_DecisionTree.fit(h1n1_vaccine_x_train,h1n1_vaccine_y_train)\n",
    "h1n1_vaccine_DecisionTree_pred = h1n1_vaccine_DecisionTree.predict(h1n1_vaccine_x_test)\n",
    "\n",
    "end_time = time.time()\n",
    "\n",
    "H1n1_DecisionTree_acc = accuracy_score(h1n1_vaccine_y_test, h1n1_vaccine_DecisionTree_pred)\n",
    "print('H1n1 Accuracy:', H1n1_DecisionTree_acc)\n",
    "print(\"H1n1 Best Scores: \" , h1n1_vaccine_DecisionTree.best_score_)\n",
    "\n",
    "print(\"程序运行时间为：\",end_time - start_time, \"秒\")"
   ]
  },
  {
   "cell_type": "markdown",
   "id": "7c710091",
   "metadata": {},
   "source": [
    "Seasonal"
   ]
  },
  {
   "cell_type": "code",
   "execution_count": 45,
   "id": "17e1b546",
   "metadata": {},
   "outputs": [
    {
     "name": "stdout",
     "output_type": "stream",
     "text": [
      "Fold 1: accuracy = 0.7804117280099813\n",
      "Fold 2: accuracy = 0.7698066126013724\n",
      "Fold 3: accuracy = 0.7560823456019963\n",
      "Fold 4: accuracy = 0.7721598002496879\n",
      "Fold 5: accuracy = 0.7553058676654182\n",
      "Mean scores:  0.7667532708256911\n",
      "Seasonal Accuracy: 0.7647572694371646\n",
      "Seasonal Best Scores:  0.7604043449871363\n",
      "程序运行时间为： 4.94782280921936 秒\n"
     ]
    }
   ],
   "source": [
    "seasonal_vaccine_DecisionTree = DecisionTreeClassifier()\n",
    "\n",
    "#Grid Search Optimization Parameters\n",
    "seasonal_vaccine_DecisionTree = GridSearchCV(seasonal_vaccine_DecisionTree, param_grid, cv=5)\n",
    "\n",
    "#Cross-validation to evaluate model performance\n",
    "scores = cross_val_score(seasonal_vaccine_DecisionTree,seasonal_vaccine_x_test,seasonal_vaccine_y_test,cv = 5,scoring = 'accuracy')\n",
    "for fold, score in enumerate(scores):\n",
    "    print(f\"Fold {fold +1}: accuracy = {score}\")\n",
    "mean_score = scores.mean()\n",
    "print(\"Mean scores: \",mean_score)\n",
    "\n",
    "start_time = time.time()\n",
    "\n",
    "#Model Training\n",
    "seasonal_vaccine_DecisionTree.fit(seasonal_vaccine_x_train,seasonal_vaccine_y_train)\n",
    "seasonal_vaccine_DecisionTree_pred = seasonal_vaccine_DecisionTree.predict(seasonal_vaccine_x_test)\n",
    "\n",
    "end_time = time.time()\n",
    "\n",
    "Seasonal_DecisionTree_acc = accuracy_score(seasonal_vaccine_y_test, seasonal_vaccine_DecisionTree_pred)\n",
    "print('Seasonal Accuracy:', Seasonal_DecisionTree_acc)\n",
    "print(\"Seasonal Best Scores: \" , seasonal_vaccine_DecisionTree.best_score_)\n",
    "\n",
    "print(\"程序运行时间为：\",end_time - start_time, \"秒\")"
   ]
  },
  {
   "cell_type": "markdown",
   "id": "81a3fcb4",
   "metadata": {},
   "source": [
    "# Get the Final Forecast"
   ]
  },
  {
   "cell_type": "code",
   "execution_count": 101,
   "id": "310c0444",
   "metadata": {},
   "outputs": [],
   "source": [
    "df2 = preprocessing(df2)"
   ]
  },
  {
   "cell_type": "code",
   "execution_count": 109,
   "id": "7276ffe3",
   "metadata": {},
   "outputs": [],
   "source": [
    "headers5 = ['h1n1_concern', 'h1n1_knowledge', 'doctor_recc_h1n1', 'doctor_recc_seasonal', 'health_worker', 'opinion_h1n1_vacc_effective', 'opinion_h1n1_risk', 'opinion_seas_vacc_effective', 'opinion_seas_risk']\n",
    "headers6 = ['h1n1_concern', 'h1n1_knowledge', 'behavioral_wash_hands', 'behavioral_touch_face', 'doctor_recc_h1n1', 'doctor_recc_seasonal', 'chronic_med_condition', 'health_worker', 'opinion_h1n1_vacc_effective', 'opinion_h1n1_risk', 'opinion_seas_vacc_effective', 'opinion_seas_risk', 'household_children', 'age_group_encoded', 'White', 'Own', 'Rent', 'Employed', 'Not in Labor Force']\n",
    "df2_h1n1_input = df2[headers5]\n",
    "df2_seasonal_input = df2[headers6]"
   ]
  },
  {
   "cell_type": "code",
   "execution_count": 119,
   "id": "bbc2c2bd",
   "metadata": {},
   "outputs": [],
   "source": [
    "#Logistic Regression Model Forecasting\n",
    "h1h1_log_proba = h1n1_vaccine_log.predict_proba(df2_h1n1_input)\n",
    "seasonal_log_proba = seasonal_vaccine_log.predict_proba(df2_seasonal_input)\n",
    "\n",
    "h1h1_log_Forecast = pd.DataFrame(h1h1_log_proba[:,1])\n",
    "seasonal_log_Forecast = pd.DataFrame(seasonal_log_proba[:,1])\n",
    "log_Forecast = pd.concat([h1h1_log_Forecast,seasonal_log_Forecast],axis =1)\n",
    "\n",
    "headers = ['h1n1_vaccine','seasonal_vaccine']\n",
    "log_Forecast.columns = headers\n",
    "\n",
    "# Add ID column\n",
    "start_id = 26707\n",
    "end_id = 53414\n",
    "log_Forecast.insert(0, 'ID', range(start_id, end_id + 1))\n",
    "\n",
    "log_Forecast.to_csv('D:\\诺丁汉大学 学习资料\\诺丁汉大学  计算机科学 学习资料\\Data science and machine learning\\CW2\\Result\\logistic.csv', index=False)"
   ]
  },
  {
   "cell_type": "code",
   "execution_count": 120,
   "id": "95abdc3e",
   "metadata": {},
   "outputs": [],
   "source": [
    "# K-Nearest Neighbour Regression Model Forecasting\n",
    "h1h1_knn_proba = h1n1_vaccine_knn.predict_proba(df2_h1n1_input)\n",
    "seasonal_knn_proba = seasonal_vaccine_knn.predict_proba(df2_seasonal_input)\n",
    "\n",
    "h1h1_knn_Forecast = pd.DataFrame(h1h1_knn_proba[:,1])\n",
    "seasonal_knn_Forecast = pd.DataFrame(seasonal_knn_proba[:,1])\n",
    "knn_Forecast = pd.concat([h1h1_knn_Forecast,seasonal_knn_Forecast],axis =1)\n",
    "\n",
    "headers = ['h1n1_vaccine','seasonal_vaccine']\n",
    "knn_Forecast.columns = headers\n",
    "\n",
    "# Add ID column\n",
    "start_id = 26707\n",
    "end_id = 53414\n",
    "knn_Forecast.insert(0, 'ID', range(start_id, end_id + 1))\n",
    "\n",
    "knn_Forecast.to_csv('D:\\诺丁汉大学 学习资料\\诺丁汉大学  计算机科学 学习资料\\Data science and machine learning\\CW2\\Result\\K-Nearest Neighbour Regression.csv', index=False)"
   ]
  },
  {
   "cell_type": "code",
   "execution_count": 121,
   "id": "ace66581",
   "metadata": {},
   "outputs": [],
   "source": [
    "# K-Nearest Neighbour Regression Model Forecasting\n",
    "h1h1_DecisionTree_proba = h1n1_vaccine_DecisionTree.predict_proba(df2_h1n1_input)\n",
    "seasonal_DecisionTree_proba = seasonal_vaccine_DecisionTree.predict_proba(df2_seasonal_input)\n",
    "\n",
    "h1h1_DecisionTree_Forecast = pd.DataFrame(h1h1_DecisionTree_proba[:,1])\n",
    "seasonal_DecisionTree_Forecast = pd.DataFrame(seasonal_DecisionTree_proba[:,1])\n",
    "DecisionTree_Forecast = pd.concat([h1h1_DecisionTree_Forecast,seasonal_DecisionTree_Forecast],axis =1)\n",
    "\n",
    "headers = ['h1n1_vaccine','seasonal_vaccine']\n",
    "DecisionTree_Forecast.columns = headers\n",
    "\n",
    "# Add ID column\n",
    "start_id = 26707\n",
    "end_id = 53414\n",
    "DecisionTree_Forecast.insert(0, 'ID', range(start_id, end_id + 1))\n",
    "\n",
    "DecisionTree_Forecast.to_csv('D:\\诺丁汉大学 学习资料\\诺丁汉大学  计算机科学 学习资料\\Data science and machine learning\\CW2\\Result\\Decision Tree Regression.csv', index=False)"
   ]
  },
  {
   "cell_type": "code",
   "execution_count": null,
   "id": "30432f2a",
   "metadata": {},
   "outputs": [],
   "source": []
  },
  {
   "cell_type": "markdown",
   "id": "4768d618",
   "metadata": {},
   "source": [
    "# Ye's Code"
   ]
  },
  {
   "cell_type": "code",
   "execution_count": null,
   "id": "340ca15a",
   "metadata": {},
   "outputs": [],
   "source": [
    "import pandas as pd\n",
    "import numpy as np\n",
    "from sklearn.feature_selection import SelectKBest\n",
    "from sklearn.feature_selection import chi2\n",
    "from sklearn.model_selection import cross_val_score\n",
    "from sklearn.model_selection import KFold\n",
    "from sklearn.svm import SVC\n",
    "from sklearn.neural_network import MLPClassifier\n",
    "from sklearn.preprocessing import StandardScaler\n",
    "#Build and train the svm model\n",
    "def buildSVM(X,y,kernel='linear',C=0.1,gamma=0.1):\n",
    "    model = SVC(kernel=kernel,C=C,gamma=gamma,probability=True)\n",
    "    model.fit(X, y)\n",
    "    return model\n",
    "\n",
    "#Build and train the ann model\n",
    "def buildANN(X,y,activation='relu',hidden_layer_sizes=(70,20),max_iter=2000, solver= 'adam'):\n",
    "    model = MLPClassifier(hidden_layer_sizes=hidden_layer_sizes, activation=activation, solver=solver, max_iter=max_iter, random_state=42)\n",
    "    model.fit(X, y)\n",
    "    return model"
   ]
  },
  {
   "cell_type": "markdown",
   "id": "ac08e523",
   "metadata": {},
   "source": [
    "# data preprocessing"
   ]
  },
  {
   "cell_type": "code",
   "execution_count": null,
   "id": "a6086454",
   "metadata": {},
   "outputs": [],
   "source": [
    "#data preprocessing\n",
    "#1.read data\n",
    "df_train_feature = pd.read_csv(r\"Raw Data/training_set_features.csv\")\n",
    "df_train_label = pd.read_csv(r\"Raw Data/training_set_labels.csv\")\n",
    "df_test_feature = pd.read_csv(r\"Raw Data/test_set_features.csv\")\n",
    " \n",
    "\n",
    "#count missing value \n",
    "missing_counts = df_train_feature.isna().sum()\n",
    "#print(\"information of missing counts:\\n\",missing_counts)\n",
    "\n",
    "#distinguish dublicated value\n",
    "train_duplicated_count = df_train_feature.duplicated().sum()\n",
    "#print(\"dublicated number in train dataset:\",train_duplicated_count)\n",
    "\n",
    "test_duplicated_count = df_test_feature.duplicated().sum()\n",
    "#print(\"dublicated number in test dataset:\",test_duplicated_count)\n",
    "\n",
    "#find distinct value\n",
    "unique_counts = df_train_feature.nunique()\n",
    "#print(\"train number of distinct value:\\n\",unique_counts) \n",
    "\n",
    "unique_counts = df_test_feature.nunique()\n",
    "#print(\"test number of distinct value:\\n\",unique_counts) \n",
    "\n",
    "# 2.Data Cleaning ,Filter out columns with more than 30% missing values\n",
    "cols_with_few_missing_values = missing_counts[missing_counts >df_train_feature.shape[0]*0.3].index\n",
    "print(\"columns with more than 30% missing values are:\",list(cols_with_few_missing_values))\n",
    "#delete these columns\n",
    "df_train_feature= df_train_feature.drop(columns=['health_insurance', 'employment_industry', 'employment_occupation'],axis=1)\n",
    "df_test_feature= df_test_feature.drop(columns=['health_insurance', 'employment_industry', 'employment_occupation'],axis=1)\n",
    "#Columns with really little data use data completion and mode filling\n",
    "mode = df_train_feature.mode().iloc[0]\n",
    "df_train_feature.fillna(mode, inplace=True)\n",
    "df_test_feature.fillna(mode, inplace=True)\n",
    "\n",
    "# #3.Data Transformation\n",
    "df_train_feature = pd.get_dummies(df_train_feature, columns=['age_group','education','race','sex','income_poverty',\n",
    "                                                 'marital_status','rent_or_own','employment_status',\n",
    "                                                 'hhs_geo_region','census_msa'])\n",
    "df_test_feature = pd.get_dummies(df_test_feature, columns=['age_group','education','race','sex','income_poverty',\n",
    "                                                 'marital_status','rent_or_own','employment_status',\n",
    "                                                 'hhs_geo_region','census_msa'])"
   ]
  },
  {
   "cell_type": "markdown",
   "id": "2ee35cfe",
   "metadata": {},
   "source": [
    "# 1. svm"
   ]
  },
  {
   "cell_type": "markdown",
   "id": "cc3be0ff",
   "metadata": {},
   "source": [
    "# 1.1 h1n1 vaccine"
   ]
  },
  {
   "cell_type": "markdown",
   "id": "2a00b2d5",
   "metadata": {},
   "source": [
    "# 1.1.1 Feature Selection"
   ]
  },
  {
   "cell_type": "code",
   "execution_count": null,
   "id": "462d6c33",
   "metadata": {},
   "outputs": [],
   "source": [
    "#4.h1n1 Data Reduction\n",
    "all_name = df_train_feature.columns.values.tolist() \n",
    "\n",
    "#select 20 features\n",
    "model_h1n1 = SelectKBest(chi2, k=20)\n",
    "df_train_feature_h1n1 = model_h1n1.fit_transform(df_train_feature, df_train_label['h1n1_vaccine'])\n",
    "select_name_index_h1n1 = model_h1n1.get_support(indices=True)  \n",
    "select_name_h1n1 = []\n",
    "for i in select_name_index_h1n1:\n",
    "    select_name_h1n1.append(all_name[i])\n",
    "\n",
    "# confirm label and feature    \n",
    "df_test_feature_h1n1 = df_test_feature[select_name_h1n1]\n",
    "X_h1n1_vaccine = df_train_feature_h1n1\n",
    "y_h1n1_vaccine = df_train_label['h1n1_vaccine'].values"
   ]
  },
  {
   "cell_type": "markdown",
   "id": "43e47063",
   "metadata": {},
   "source": [
    "# 1.1.2 Hyperparameter Tuning"
   ]
  },
  {
   "cell_type": "code",
   "execution_count": null,
   "id": "ba5be76b",
   "metadata": {},
   "outputs": [],
   "source": [
    "#Hyperparameter tuning, using grid search\n",
    "#very slow\n",
    "from sklearn.model_selection import GridSearchCV\n",
    "svm = SVC()\n",
    "param_grid = {'kernel': ['linear', 'rbf']}\n",
    "grid_search = GridSearchCV(svm, param_grid=param_grid, cv=2, n_jobs=8)\n",
    "grid_search.fit(X_h1n1_vaccine[0:1000], y_h1n1_vaccine[0:1000])\n",
    "print('Best Parameters of SVM model in h1n1 vaccine:', grid_search.best_params_)\n",
    "print('Best Score of SVM model in h1n1 vaccine:', grid_search.best_score_)"
   ]
  },
  {
   "cell_type": "markdown",
   "id": "d7269a78",
   "metadata": {},
   "source": [
    "# 1.1.3 Kfold"
   ]
  },
  {
   "cell_type": "code",
   "execution_count": null,
   "id": "87be865f",
   "metadata": {},
   "outputs": [],
   "source": [
    "kf = KFold(n_splits=5)\n",
    "train_predict_score = []\n",
    "test_predict_score = []\n",
    "\n",
    "for train_index, test_index in kf.split(X_h1n1_vaccine):\n",
    "    X_train, X_test = X_h1n1_vaccine[train_index], X_h1n1_vaccine[test_index]\n",
    "    y_train, y_test = y_h1n1_vaccine[train_index], y_h1n1_vaccine[test_index]\n",
    "    scaler = StandardScaler()\n",
    "    X_train = scaler.fit_transform(X_train)\n",
    "    model = buildSVM(X_train,y_train,kernel='linear',C=0.1,gamma=0.1)\n",
    "    y_train_predict = model.predict(X_train)\n",
    "    y_test_predict = model.predict(X_test)\n",
    "    #y_test_predict_proba =  mlp.predict_proba(X_test)\n",
    "    train_predict_score.append(model.score(X_train, y_train))\n",
    "    test_predict_score.append(model.score(X_test,y_test))\n",
    "\n",
    "#accuracy of h1n1 vaccine prediction\n",
    "print(\"accuracy of h1n1 vaccine in train dataset is {:.2f}%\".format(np.mean(train_predict_score)* 100))\n",
    "print(\"accuracy of h1n1 vaccine in test dataset is {:.2f}%\".format(np.mean(test_predict_score)* 100))"
   ]
  },
  {
   "cell_type": "markdown",
   "id": "a76c0f85",
   "metadata": {},
   "source": [
    "# 1.2 Seasonal Vaccine"
   ]
  },
  {
   "cell_type": "markdown",
   "id": "bafbe47f",
   "metadata": {},
   "source": [
    "# 1.2.1 Feature Selection"
   ]
  },
  {
   "cell_type": "code",
   "execution_count": null,
   "id": "3de45de1",
   "metadata": {},
   "outputs": [],
   "source": [
    "#4.Data Reduction\n",
    "all_name = df_train_feature.columns.values.tolist()  \n",
    "#select 20 features\n",
    "model_seasonal = SelectKBest(chi2, k=20)\n",
    "df_train_feature_seasonal = model_seasonal.fit_transform(df_train_feature, df_train_label['seasonal_vaccine'])\n",
    "select_name_index_seasonal = model_seasonal.get_support(indices=True)  \n",
    "select_name_seasonal = []\n",
    "for i in select_name_index_seasonal:\n",
    "    select_name_seasonal.append(all_name[i])\n",
    "    \n",
    "df_test_feature_seasonal = df_test_feature[select_name_seasonal]\n",
    "X_seasonal_vaccine = df_train_feature_seasonal\n",
    "y_seasonal_vaccine = df_train_label['seasonal_vaccine'].values"
   ]
  },
  {
   "cell_type": "markdown",
   "id": "5b9704cc",
   "metadata": {},
   "source": [
    "# 1.2.2 Hyperparameter Tuning"
   ]
  },
  {
   "cell_type": "code",
   "execution_count": null,
   "id": "34377b4a",
   "metadata": {},
   "outputs": [],
   "source": [
    "#Hyperparameter tuning, using grid search\n",
    "from sklearn.model_selection import GridSearchCV\n",
    "svm = SVC()\n",
    "param_grid = {'kernel': ['linear', 'rbf']}\n",
    "grid_search = GridSearchCV(svm, param_grid=param_grid, cv=2)\n",
    "grid_search.fit(X_seasonal_vaccine[0:1000], y_seasonal_vaccine[0:1000])\n",
    "print('Best Parameters of SVM model in seasonal vaccine:', grid_search.best_params_)\n",
    "print('Best Score of SVM model in seasonal vaccine:', grid_search.best_score_)"
   ]
  },
  {
   "cell_type": "markdown",
   "id": "f07f6934",
   "metadata": {},
   "source": [
    "# 1.2.3 Kfold"
   ]
  },
  {
   "cell_type": "code",
   "execution_count": null,
   "id": "b2ffba5e",
   "metadata": {},
   "outputs": [],
   "source": [
    "from sklearn.model_selection import KFold\n",
    "kf = KFold(n_splits=5)\n",
    "train_predict_score = []\n",
    "test_predict_score = []\n",
    "#Kfold\n",
    "for train_index, test_index in kf.split(X_seasonal_vaccine):\n",
    "    X_train, X_test = X_seasonal_vaccine[train_index], X_seasonal_vaccine[test_index]\n",
    "    y_train, y_test = y_seasonal_vaccine[train_index], y_seasonal_vaccine[test_index]\n",
    "    scaler = StandardScaler()\n",
    "    X_train = scaler.fit_transform(X_train)\n",
    "    #modelling seasonal vacacine\n",
    "    model = buildSVM(X_train,y_train,kernel='linear',C=0.1,gamma=0.1)\n",
    "    y_train_predict = model.predict(X_train)\n",
    "    y_test_predict = model.predict(X_test)\n",
    "    train_predict_score.append(model.score(X_train, y_train))\n",
    "    test_predict_score.append(model.score(X_test,y_test))\n",
    "    \n",
    "#accuracy of seasonal prediction\n",
    "print(\"accuracy of seasonal vaccine in train dataset is {:.2f}%\".format(np.mean(train_predict_score)* 100))\n",
    "print(\"accuracy of seasonal vaccine in test dataset is {:.2f}%\".format(np.mean(test_predict_score)* 100))"
   ]
  },
  {
   "cell_type": "markdown",
   "id": "efc9693d",
   "metadata": {},
   "source": [
    "# 1.3 Predict Results"
   ]
  },
  {
   "cell_type": "code",
   "execution_count": null,
   "id": "55b36d9b",
   "metadata": {},
   "outputs": [],
   "source": [
    "model_h1n1 = buildSVM(X_h1n1_vaccine[0:1000], y_h1n1_vaccine[0:1000],kernel='linear',C=0.1,gamma=0.1)\n",
    "y_h1n1_predict = model_h1n1.predict(df_test_feature_h1n1.values)\n",
    "y_h1n1_predict_proba =  model_h1n1.predict_proba(df_test_feature_h1n1.values)\n"
   ]
  },
  {
   "cell_type": "code",
   "execution_count": null,
   "id": "a26ded76",
   "metadata": {},
   "outputs": [],
   "source": [
    "model_season = buildSVM(X_h1n1_vaccine[0:1000], y_h1n1_vaccine[0:1000],kernel='linear',C=0.1,gamma=0.1)\n",
    "y_seasonal_predict = model_season.predict(df_test_feature_seasonal.values)\n",
    "y_seasonal_predict_proba =  model_season.predict_proba(df_test_feature_seasonal.values)\n"
   ]
  },
  {
   "cell_type": "code",
   "execution_count": null,
   "id": "aa5233fc",
   "metadata": {},
   "outputs": [],
   "source": [
    "#export\n",
    "data = {'respondent_id': df_test_feature['respondent_id'],\n",
    "        'h1n1_vaccine': y_h1n1_predict_proba[:,1],\n",
    "        'seasonal_vaccine': y_seasonal_predict_proba[:,1]}\n",
    "df = pd.DataFrame(data)\n",
    "df.to_csv('output_svm.csv', index=False, float_format='%.1f', header=True)\n",
    "print(\"export sucessfully！\")"
   ]
  },
  {
   "cell_type": "markdown",
   "id": "59925b1e",
   "metadata": {},
   "source": [
    "# 2.ANN"
   ]
  },
  {
   "cell_type": "markdown",
   "id": "98ed02cd",
   "metadata": {},
   "source": [
    "## 2.1 prediction of h1n1 vaccine"
   ]
  },
  {
   "cell_type": "markdown",
   "id": "d3fc32ee",
   "metadata": {},
   "source": [
    "### 2.1.1 feature selection"
   ]
  },
  {
   "cell_type": "code",
   "execution_count": null,
   "id": "acc44596",
   "metadata": {},
   "outputs": [],
   "source": [
    "#ann\n",
    "all_name = df_train_feature.columns.values.tolist()  \n",
    "\n",
    "#select 20 features\n",
    "model_h1n1 = SelectKBest(chi2, k=20)\n",
    "df_train_feature_h1n1 = model_h1n1.fit_transform(df_train_feature, df_train_label['h1n1_vaccine'])\n",
    "select_name_index_h1n1 = model_h1n1.get_support(indices=True)  \n",
    "select_name_h1n1 = []\n",
    "for i in select_name_index_h1n1:\n",
    "    select_name_h1n1.append(all_name[i])\n",
    "\n",
    "# confirm label and feature    \n",
    "df_test_feature_h1n1 = df_test_feature[select_name_h1n1]\n",
    "X_h1n1_vaccine = df_train_feature_h1n1\n",
    "y_h1n1_vaccine = df_train_label['h1n1_vaccine'].values"
   ]
  },
  {
   "cell_type": "markdown",
   "id": "ab821548",
   "metadata": {},
   "source": [
    "### 2.1.2 Hyperparameter tuning"
   ]
  },
  {
   "cell_type": "code",
   "execution_count": null,
   "id": "cce2a525",
   "metadata": {},
   "outputs": [],
   "source": [
    "\n",
    "from sklearn.model_selection import GridSearchCV\n",
    "mlp = MLPClassifier()\n",
    "param_grid = {\n",
    "    'hidden_layer_sizes': [(50,20),(60,20),(70,20)],\n",
    "    'activation': ['relu'],\n",
    "    'solver': ['adam'],\n",
    "    'max_iter': [2000]\n",
    "}\n",
    "grid_search = GridSearchCV(mlp, param_grid=param_grid, cv=5)\n",
    "grid_search.fit(X_h1n1_vaccine[0:1000], y_h1n1_vaccine[0:1000])\n",
    "print('Best Parameters of ANN model in h1n1 vaccine:', grid_search.best_params_)\n",
    "print('Best Score of ANN model in h1n1 vaccine:', grid_search.best_score_)"
   ]
  },
  {
   "cell_type": "markdown",
   "id": "b2bed498",
   "metadata": {},
   "source": [
    "### 2.1.3Kfold\n"
   ]
  },
  {
   "cell_type": "code",
   "execution_count": null,
   "id": "c314472e",
   "metadata": {},
   "outputs": [],
   "source": [
    "kf = KFold(n_splits=5)\n",
    "train_predict_score = []\n",
    "test_predict_score = []\n",
    "\n",
    "for train_index, test_index in kf.split(X_h1n1_vaccine):\n",
    "    X_train, X_test = X_h1n1_vaccine[train_index], X_h1n1_vaccine[test_index]\n",
    "    y_train, y_test = y_h1n1_vaccine[train_index], y_h1n1_vaccine[test_index]\n",
    "    scaler = StandardScaler()\n",
    "    X_train = scaler.fit_transform(X_train)\n",
    "    model = buildANN(X_train,y_train,activation='relu',hidden_layer_sizes=(50,20),max_iter=2000, solver= 'adam')\n",
    "    y_train_predict = model.predict(X_train)\n",
    "    y_test_predict = model.predict(X_test)\n",
    "    train_predict_score.append(model.score(X_train, y_train))\n",
    "    test_predict_score.append(model.score(X_test,y_test))\n",
    "\n",
    "#accuracy of h1n1 vaccine prediction\n",
    "print(\"accuracy of h1n1 vaccine in train dataset is {:.2f}%\".format(np.mean(train_predict_score)* 100))\n",
    "print(\"accuracy of h1n1 vaccine in test dataset is {:.2f}%\".format(np.mean(test_predict_score)* 100))"
   ]
  },
  {
   "cell_type": "markdown",
   "id": "0fa873b7",
   "metadata": {},
   "source": [
    "## 2.2 prediction of seasonal vaccine"
   ]
  },
  {
   "cell_type": "markdown",
   "id": "d5491381",
   "metadata": {},
   "source": [
    "### 2.2.1 feature selection"
   ]
  },
  {
   "cell_type": "code",
   "execution_count": null,
   "id": "29e1b535",
   "metadata": {},
   "outputs": [],
   "source": [
    "#ann\n",
    "#4.seasonal vaccine Data Reduction\n",
    "all_name = df_train_feature.columns.values.tolist()  \n",
    "#select 20 feature\n",
    "model_seasonal = SelectKBest(chi2, k=20)\n",
    "df_train_feature_seasonal = model_seasonal.fit_transform(df_train_feature, df_train_label['seasonal_vaccine'])\n",
    "select_name_index_seasonal = model_seasonal.get_support(indices=True) \n",
    "select_name_seasonal = []\n",
    "for i in select_name_index_seasonal:\n",
    "    select_name_seasonal.append(all_name[i])\n",
    "    \n",
    "df_test_feature_seasonal = df_test_feature[select_name_seasonal]\n",
    "X_seasonal_vaccine = df_train_feature_seasonal\n",
    "y_seasonal_vaccine = df_train_label['seasonal_vaccine'].values"
   ]
  },
  {
   "cell_type": "markdown",
   "id": "d6ab3961",
   "metadata": {},
   "source": [
    "### 2.2.2 Hyperparameter tuning"
   ]
  },
  {
   "cell_type": "code",
   "execution_count": null,
   "id": "ffde5a53",
   "metadata": {},
   "outputs": [],
   "source": [
    "from sklearn.model_selection import GridSearchCV\n",
    "mlp = MLPClassifier()\n",
    "param_grid = {\n",
    "    'hidden_layer_sizes': [(50,20),(60,20),(70,20)],\n",
    "    'activation': ['relu'],\n",
    "    'solver': ['adam'],\n",
    "    'max_iter': [2000]\n",
    "}\n",
    "grid_search = GridSearchCV(mlp, param_grid=param_grid, cv=5)\n",
    "grid_search.fit(X_seasonal_vaccine[0:1000], y_seasonal_vaccine[0:1000])\n",
    "print('Best Parameters of ANN model in seasonal vaccine:', grid_search.best_params_)\n",
    "print('Best Score of ANN model in seasonal vaccine:', grid_search.best_score_)"
   ]
  },
  {
   "cell_type": "markdown",
   "id": "b833e355",
   "metadata": {},
   "source": [
    "### 2.2.3 Kfold"
   ]
  },
  {
   "cell_type": "code",
   "execution_count": null,
   "id": "03d417ea",
   "metadata": {},
   "outputs": [],
   "source": [
    "from sklearn.model_selection import KFold\n",
    "kf = KFold(n_splits=5)\n",
    "train_predict_score = []\n",
    "test_predict_score = []\n",
    "#Kfold\n",
    "for train_index, test_index in kf.split(X_seasonal_vaccine):\n",
    "    X_train, X_test = X_seasonal_vaccine[train_index], X_seasonal_vaccine[test_index]\n",
    "    y_train, y_test = y_seasonal_vaccine[train_index], y_seasonal_vaccine[test_index]\n",
    "    scaler = StandardScaler()\n",
    "    X_train = scaler.fit_transform(X_train)\n",
    "    #modelling seasonal vacacine\n",
    "    model = buildANN(X_train,y_train,activation='relu',hidden_layer_sizes=(70,20),max_iter=2000, solver= 'adam')\n",
    "    y_train_predict = model.predict(X_train)\n",
    "    y_test_predict = model.predict(X_test)\n",
    "    \n",
    "    train_predict_score.append(model.score(X_train, y_train))\n",
    "    test_predict_score.append(model.score(X_test,y_test))\n",
    "    #print(y_test_predict_proba)\n",
    "    \n",
    "#accuracy of seasonal prediction\n",
    "print(\"accuracy of seasonal vaccine in train dataset is {:.2f}%\".format(np.mean(train_predict_score)* 100))\n",
    "print(\"accuracy of seasonal vaccine in test dataset is {:.2f}%\".format(np.mean(test_predict_score)* 100))"
   ]
  },
  {
   "cell_type": "markdown",
   "id": "65137abe",
   "metadata": {},
   "source": [
    "## 2.3 predict results"
   ]
  },
  {
   "cell_type": "code",
   "execution_count": null,
   "id": "7876fdda",
   "metadata": {},
   "outputs": [],
   "source": [
    "#predict results\n",
    "model_h1n1 = buildANN(X_h1n1_vaccine,y_h1n1_vaccine,activation='relu',hidden_layer_sizes=(60,20),max_iter=2000, solver= 'adam')\n",
    "y_h1n1_predict = model_h1n1.predict(df_test_feature_h1n1.values)\n",
    "y_h1n1_predict_proba =  model_h1n1.predict_proba(df_test_feature_h1n1.values)\n"
   ]
  },
  {
   "cell_type": "code",
   "execution_count": null,
   "id": "76dec663",
   "metadata": {},
   "outputs": [],
   "source": [
    "model_season = buildANN(X_seasonal_vaccine,y_seasonal_vaccine,activation='relu',hidden_layer_sizes=(60,20),max_iter=2000, solver= 'adam')\n",
    "y_seasonal_predict = model_season.predict(df_test_feature_seasonal.values)\n",
    "y_seasonal_predict_proba =  model_season.predict_proba(df_test_feature_seasonal.values)\n"
   ]
  },
  {
   "cell_type": "code",
   "execution_count": null,
   "id": "08158c5c",
   "metadata": {},
   "outputs": [],
   "source": [
    "#export\n",
    "data = {'respondent_id': df_test_feature['respondent_id'],\n",
    "        'h1n1_vaccine': y_h1n1_predict_proba[:,1],\n",
    "        'seasonal_vaccine': y_seasonal_predict_proba[:,1]}\n",
    "df = pd.DataFrame(data)\n",
    "df.to_csv('output_ann.csv', index=False, float_format='%.1f', header=True)\n",
    "print(\"export sucessfully！\")"
   ]
  }
 ],
 "metadata": {
  "kernelspec": {
   "display_name": "Python 3 (ipykernel)",
   "language": "python",
   "name": "python3"
  },
  "language_info": {
   "codemirror_mode": {
    "name": "ipython",
    "version": 3
   },
   "file_extension": ".py",
   "mimetype": "text/x-python",
   "name": "python",
   "nbconvert_exporter": "python",
   "pygments_lexer": "ipython3",
   "version": "3.9.13"
  }
 },
 "nbformat": 4,
 "nbformat_minor": 5
}
